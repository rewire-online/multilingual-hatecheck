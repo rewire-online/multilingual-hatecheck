{
 "cells": [
  {
   "cell_type": "markdown",
   "id": "3d4486dc-91dd-4b4e-bb51-a0ea6ec5eff9",
   "metadata": {
    "tags": []
   },
   "source": [
    "# TRANSLATE ENGLISH HATECHECK TO TARGET LANGUAGES\n",
    "\n",
    "## Target languages:\n",
    "- Chinese (DeepL)\n",
    "- Dutch (DeepL)\n",
    "- French (DeepL)\n",
    "- German (DeepL)\n",
    "- Italian (DeepL)\n",
    "- Polish (DeepL)\n",
    "- Portuguese (DeepL)\n",
    "- Spanish (DeepL)\n",
    "- Hindi (Google)\n",
    "- Arabic (Google)"
   ]
  },
  {
   "cell_type": "markdown",
   "id": "4336d132-36a0-4dbf-8a06-f2816c2917fb",
   "metadata": {
    "tags": []
   },
   "source": [
    "## Load Relevant Packages"
   ]
  },
  {
   "cell_type": "code",
   "execution_count": 1,
   "id": "6991de0b-cfa7-45ed-a3f6-3f9cc9a45007",
   "metadata": {},
   "outputs": [],
   "source": [
    "import os\n",
    "import requests\n",
    "import json\n",
    "import time\n",
    "import pandas as pd\n",
    "\n",
    "from google.cloud import translate"
   ]
  },
  {
   "cell_type": "markdown",
   "id": "d12ce93b-5b2d-4230-8991-08ae30d32a73",
   "metadata": {
    "tags": []
   },
   "source": [
    "## Load English HateCheck"
   ]
  },
  {
   "cell_type": "code",
   "execution_count": 2,
   "id": "eadb3549-4d7f-4fc8-9ff9-a3561b5d6221",
   "metadata": {},
   "outputs": [
    {
     "data": {
      "text/html": [
       "<div>\n",
       "<style scoped>\n",
       "    .dataframe tbody tr th:only-of-type {\n",
       "        vertical-align: middle;\n",
       "    }\n",
       "\n",
       "    .dataframe tbody tr th {\n",
       "        vertical-align: top;\n",
       "    }\n",
       "\n",
       "    .dataframe thead th {\n",
       "        text-align: right;\n",
       "    }\n",
       "</style>\n",
       "<table border=\"1\" class=\"dataframe\">\n",
       "  <thead>\n",
       "    <tr style=\"text-align: right;\">\n",
       "      <th></th>\n",
       "      <th>functionality</th>\n",
       "      <th>case_id</th>\n",
       "      <th>test_case</th>\n",
       "      <th>label_gold</th>\n",
       "      <th>target_ident</th>\n",
       "      <th>direction</th>\n",
       "      <th>focus_words</th>\n",
       "      <th>focus_lemma</th>\n",
       "      <th>ref_case_id</th>\n",
       "      <th>ref_templ_id</th>\n",
       "      <th>templ_id</th>\n",
       "      <th>case_templ</th>\n",
       "    </tr>\n",
       "  </thead>\n",
       "  <tbody>\n",
       "    <tr>\n",
       "      <th>0</th>\n",
       "      <td>derog_neg_emote_h</td>\n",
       "      <td>1</td>\n",
       "      <td>I hate women.</td>\n",
       "      <td>hateful</td>\n",
       "      <td>women</td>\n",
       "      <td>general</td>\n",
       "      <td>hate</td>\n",
       "      <td>hate</td>\n",
       "      <td>NaN</td>\n",
       "      <td>NaN</td>\n",
       "      <td>1</td>\n",
       "      <td>I hate [IDENTITY_P].</td>\n",
       "    </tr>\n",
       "    <tr>\n",
       "      <th>1</th>\n",
       "      <td>derog_neg_emote_h</td>\n",
       "      <td>2</td>\n",
       "      <td>I hate trans people.</td>\n",
       "      <td>hateful</td>\n",
       "      <td>trans people</td>\n",
       "      <td>general</td>\n",
       "      <td>hate</td>\n",
       "      <td>hate</td>\n",
       "      <td>NaN</td>\n",
       "      <td>NaN</td>\n",
       "      <td>1</td>\n",
       "      <td>I hate [IDENTITY_P].</td>\n",
       "    </tr>\n",
       "    <tr>\n",
       "      <th>2</th>\n",
       "      <td>derog_neg_emote_h</td>\n",
       "      <td>3</td>\n",
       "      <td>I hate gay people.</td>\n",
       "      <td>hateful</td>\n",
       "      <td>gay people</td>\n",
       "      <td>general</td>\n",
       "      <td>hate</td>\n",
       "      <td>hate</td>\n",
       "      <td>NaN</td>\n",
       "      <td>NaN</td>\n",
       "      <td>1</td>\n",
       "      <td>I hate [IDENTITY_P].</td>\n",
       "    </tr>\n",
       "    <tr>\n",
       "      <th>3</th>\n",
       "      <td>derog_neg_emote_h</td>\n",
       "      <td>4</td>\n",
       "      <td>I hate black people.</td>\n",
       "      <td>hateful</td>\n",
       "      <td>black people</td>\n",
       "      <td>general</td>\n",
       "      <td>hate</td>\n",
       "      <td>hate</td>\n",
       "      <td>NaN</td>\n",
       "      <td>NaN</td>\n",
       "      <td>1</td>\n",
       "      <td>I hate [IDENTITY_P].</td>\n",
       "    </tr>\n",
       "    <tr>\n",
       "      <th>4</th>\n",
       "      <td>derog_neg_emote_h</td>\n",
       "      <td>5</td>\n",
       "      <td>I hate disabled people.</td>\n",
       "      <td>hateful</td>\n",
       "      <td>disabled people</td>\n",
       "      <td>general</td>\n",
       "      <td>hate</td>\n",
       "      <td>hate</td>\n",
       "      <td>NaN</td>\n",
       "      <td>NaN</td>\n",
       "      <td>1</td>\n",
       "      <td>I hate [IDENTITY_P].</td>\n",
       "    </tr>\n",
       "  </tbody>\n",
       "</table>\n",
       "</div>"
      ],
      "text/plain": [
       "       functionality  case_id                 test_case label_gold  \\\n",
       "0  derog_neg_emote_h        1            I hate women.     hateful   \n",
       "1  derog_neg_emote_h        2     I hate trans people.     hateful   \n",
       "2  derog_neg_emote_h        3       I hate gay people.     hateful   \n",
       "3  derog_neg_emote_h        4     I hate black people.     hateful   \n",
       "4  derog_neg_emote_h        5  I hate disabled people.     hateful   \n",
       "\n",
       "      target_ident direction focus_words focus_lemma  ref_case_id  \\\n",
       "0            women   general        hate        hate          NaN   \n",
       "1     trans people   general        hate        hate          NaN   \n",
       "2       gay people   general        hate        hate          NaN   \n",
       "3     black people   general        hate        hate          NaN   \n",
       "4  disabled people   general        hate        hate          NaN   \n",
       "\n",
       "   ref_templ_id  templ_id            case_templ  \n",
       "0           NaN         1  I hate [IDENTITY_P].  \n",
       "1           NaN         1  I hate [IDENTITY_P].  \n",
       "2           NaN         1  I hate [IDENTITY_P].  \n",
       "3           NaN         1  I hate [IDENTITY_P].  \n",
       "4           NaN         1  I hate [IDENTITY_P].  "
      ]
     },
     "execution_count": 2,
     "metadata": {},
     "output_type": "execute_result"
    }
   ],
   "source": [
    "hatecheck_df = pd.read_csv('0_data/test_suite_cases.csv', index_col=0)\n",
    "hatecheck_df.head()"
   ]
  },
  {
   "cell_type": "markdown",
   "id": "32d7b422-9860-491f-b0b6-48341e4de386",
   "metadata": {
    "tags": []
   },
   "source": [
    "## Initiate DeepL Translator"
   ]
  },
  {
   "cell_type": "code",
   "execution_count": 3,
   "id": "e4f897c2-dfff-48ea-8317-cb05845af2de",
   "metadata": {},
   "outputs": [],
   "source": [
    "deepl_url = 'https://api.deepl.com/v2/translate'\n",
    "\n",
    "with open(\"./z_keys/deepl-translate-key-071221.json\") as f:\n",
    "    deepl_auth_key = json.load(f)['key']\n",
    "\n",
    "def trans_deepl(text, target_lang):\n",
    "    \n",
    "     # remove special tokens because they can mess up translation\n",
    "    text = text.replace(\" [URL]\", \"\").replace(\"[URL]\", \"\").replace(\" [USER]\",\"\").replace(\"[USER]\",\"\")\n",
    "    text = text.replace(\"RT: \", \"\").replace(\"RT:\", \"\")\n",
    "    text = text.strip()\n",
    "    \n",
    "    payload = {\"target_lang\": target_lang, \"auth_key\": deepl_auth_key, \"text\": text}\n",
    "    response = requests.post(url = deepl_url, data = payload)\n",
    "    \n",
    "    for translation in response.json()[\"translations\"]:\n",
    "        trans_text = translation[\"text\"]   \n",
    "    \n",
    "    return trans_text"
   ]
  },
  {
   "cell_type": "code",
   "execution_count": 4,
   "id": "eeff8cdb-7257-4c79-bd77-d07f48be63db",
   "metadata": {},
   "outputs": [
    {
     "name": "stdout",
     "output_type": "stream",
     "text": [
      "CPU times: user 18.7 ms, sys: 5.6 ms, total: 24.3 ms\n",
      "Wall time: 546 ms\n"
     ]
    },
    {
     "data": {
      "text/plain": [
       "'Das ist ein Pflaster!'"
      ]
     },
     "execution_count": 4,
     "metadata": {},
     "output_type": "execute_result"
    }
   ],
   "source": [
    "%%time\n",
    "# test case\n",
    "res = trans_deepl('[USER] This is a bandaid!', \"de\")\n",
    "res"
   ]
  },
  {
   "cell_type": "markdown",
   "id": "35b0fbdf-b63e-453b-adc4-1e6640f37a77",
   "metadata": {
    "tags": []
   },
   "source": [
    "## Initiate Google Translator"
   ]
  },
  {
   "cell_type": "code",
   "execution_count": 8,
   "id": "52d3475e-d586-41a1-a67d-90a6daae8219",
   "metadata": {},
   "outputs": [],
   "source": [
    "os.environ[\"GOOGLE_APPLICATION_CREDENTIALS\"] = \"./z_keys/google-translate-key-071221.json\"\n",
    "client = translate.TranslationServiceClient()"
   ]
  },
  {
   "cell_type": "code",
   "execution_count": 9,
   "id": "f599392f-a0a0-458d-a053-2cfb55fe826d",
   "metadata": {},
   "outputs": [],
   "source": [
    "project_id = \"hatecheck-translations\"\n",
    "parent = f\"projects/{project_id}\"\n",
    "\n",
    "def trans_google(text, target_lang):\n",
    "    \n",
    "    response = client.translate_text(\n",
    "        contents = [text],\n",
    "        target_language_code = target_lang,\n",
    "        parent=parent\n",
    "    )\n",
    "    \n",
    "    for translation in response.translations:\n",
    "        trans_text = translation.translated_text   \n",
    "    \n",
    "    return trans_text"
   ]
  },
  {
   "cell_type": "code",
   "execution_count": 10,
   "id": "91864166-3e52-47a4-8a3b-e6046260951e",
   "metadata": {},
   "outputs": [
    {
     "name": "stdout",
     "output_type": "stream",
     "text": [
      "CPU times: user 5.3 ms, sys: 2.88 ms, total: 8.18 ms\n",
      "Wall time: 229 ms\n"
     ]
    },
    {
     "data": {
      "text/plain": [
       "'[USER] Das ist ein Pflaster!'"
      ]
     },
     "execution_count": 10,
     "metadata": {},
     "output_type": "execute_result"
    }
   ],
   "source": [
    "%%time\n",
    "# test case\n",
    "res = trans_google('[USER] This is a bandaid!', \"de\")\n",
    "res"
   ]
  },
  {
   "cell_type": "code",
   "execution_count": null,
   "id": "5ad583eb-ab0a-4943-8093-35346ccf99ca",
   "metadata": {},
   "outputs": [],
   "source": []
  }
 ],
 "metadata": {
  "kernelspec": {
   "display_name": "Python 3 (ipykernel)",
   "language": "python",
   "name": "python3"
  },
  "language_info": {
   "codemirror_mode": {
    "name": "ipython",
    "version": 3
   },
   "file_extension": ".py",
   "mimetype": "text/x-python",
   "name": "python",
   "nbconvert_exporter": "python",
   "pygments_lexer": "ipython3",
   "version": "3.9.7"
  }
 },
 "nbformat": 4,
 "nbformat_minor": 5
}
